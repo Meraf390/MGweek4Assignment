{
  "metadata": {
    "language_info": {
      "codemirror_mode": {
        "name": "python",
        "version": 3
      },
      "file_extension": ".py",
      "mimetype": "text/x-python",
      "name": "python",
      "nbconvert_exporter": "python",
      "pygments_lexer": "ipython3",
      "version": "3.8"
    },
    "kernelspec": {
      "name": "python",
      "display_name": "Pyolite",
      "language": "python"
    }
  },
  "nbformat_minor": 4,
  "nbformat": 4,
  "cells": [
    {
      "cell_type": "markdown",
      "source": "# My Jupyter Notebook on IBM Watson Studio # ",
      "metadata": {}
    },
    {
      "cell_type": "markdown",
      "source": "Meraf Girma ",
      "metadata": {}
    },
    {
      "cell_type": "markdown",
      "source": "Business Analyst ",
      "metadata": {}
    },
    {
      "cell_type": "markdown",
      "source": "*I am interested in data science because I like to gain an insight from data* ",
      "metadata": {}
    },
    {
      "cell_type": "markdown",
      "source": "### The Following Cell Checks the Summation of Two Numbers ###",
      "metadata": {}
    },
    {
      "cell_type": "code",
      "source": "1+1",
      "metadata": {
        "trusted": true
      },
      "execution_count": 8,
      "outputs": [
        {
          "execution_count": 8,
          "output_type": "execute_result",
          "data": {
            "text/plain": "2"
          },
          "metadata": {}
        }
      ]
    },
    {
      "cell_type": "markdown",
      "source": "* one.           \n* two            \n* three    \n\n\n1. one            \n2. two\n3. three\n\n\n |                                   **Markdown**    | **less**| **Pretty** |\n |                                         ------:   | ------: | ------:|   \n |                                        *Still*    | renders | **nicely**|\n |                                            1      |   2     | 3   |",
      "metadata": {}
    },
    {
      "cell_type": "code",
      "source": "",
      "metadata": {},
      "execution_count": null,
      "outputs": []
    }
  ]
}