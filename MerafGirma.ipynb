{
  "metadata": {
    "language_info": {
      "codemirror_mode": {
        "name": "python",
        "version": 3
      },
      "file_extension": ".py",
      "mimetype": "text/x-python",
      "name": "python",
      "nbconvert_exporter": "python",
      "pygments_lexer": "ipython3",
      "version": "3.8"
    },
    "kernelspec": {
      "name": "python",
      "display_name": "Pyolite",
      "language": "python"
    }
  },
  "nbformat_minor": 4,
  "nbformat": 4,
  "cells": [
    {
      "cell_type": "markdown",
      "source": "# My Jupyter Notebook on IBM Watson Studio # ",
      "metadata": {}
    },
    {
      "cell_type": "markdown",
      "source": "Meraf Girma ",
      "metadata": {}
    },
    {
      "cell_type": "markdown",
      "source": "100% Human ",
      "metadata": {}
    },
    {
      "cell_type": "markdown",
      "source": "*I am interested in data science because I like to gain an insight from data* ",
      "metadata": {}
    },
    {
      "cell_type": "markdown",
      "source": "### The following code tests the Gauss Formula ###",
      "metadata": {}
    },
    {
      "cell_type": "code",
      "source": "def gauss(n):\n    return(n*(n+1))/2\ngauss(100) == sum(range(101))",
      "metadata": {
        "trusted": true
      },
      "execution_count": 2,
      "outputs": [
        {
          "execution_count": 2,
          "output_type": "execute_result",
          "data": {
            "text/plain": "True"
          },
          "metadata": {}
        }
      ]
    },
    {
      "cell_type": "markdown",
      "source": "* one\n* two\n* three\n* one\n* two\n* three",
      "metadata": {}
    },
    {
      "cell_type": "markdown",
      "source": " |                                   **Markdown**    | **less**| **Pretty** |\n |                                         ------:   | ------: | ------:|   \n |                                        *Still*    | renders | **nicely**|\n |                                            1      |   2     | 3   |",
      "metadata": {}
    },
    {
      "cell_type": "code",
      "source": "",
      "metadata": {},
      "execution_count": null,
      "outputs": []
    }
  ]
}